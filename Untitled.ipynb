{
 "cells": [
  {
   "cell_type": "code",
   "execution_count": null,
   "metadata": {},
   "outputs": [],
   "source": [
    "## file import\n",
    "file = open(\"Tang_poems_utf_8.txt\")\n",
    "text = file.read()\n",
    "file.close()\n",
    "import matplotlib.pyplot as plt\n",
    "## split and create regular poems\n",
    "import re\n",
    "import numpy as np\n",
    "import matplotlib.font_manager as fm\n",
    "import os\n",
    "import csv\n",
    "import time\n",
    "import pandas as pd\n",
    "import seaborn as sns\n",
    "import tensorflow as tf\n",
    "from collections import defaultdict\n",
    "pattern = u'卷.[0-9]+'\n",
    "poems = re.split(pattern, text)[1:]\n",
    "regular_poems = []\n",
    "regular_title = []\n",
    "corpus = []\n",
    "stopwords = re.compile(u'而|何|乎|乃|其|且|然|若|所|为|焉|也|以|矣|于|之|则|者|与|欤|因|-')\n",
    "for poem in poems:\n",
    "    tmp_poem = poem.strip('\\n\\u3000\\u3000◎')\n",
    "    tmp_poem = tmp_poem.replace('\\u3000\\u3000','').split('\\n')\n",
    "    regular_title.append(tmp_poem[0])\n",
    "    regular_poems.append('\\n'.join(tmp_poem[1:]))\n",
    "    tmp_poem=''.join(tmp_poem[1:]).replace('\\n',\"\").replace('。','').replace('，','').replace('：','').replace('；','').replace('？','').replace('！','').replace('（[.*]*?）','')\n",
    "    corpus.append([stopwords.sub('',tmp_poem)])\n",
    "    ## Word frequency\n",
    "    \n",
    "settings = {}\n",
    "settings['n'] = 7                   # dimension of word embeddings\n",
    "settings['window_size'] = 2         # context window +/- center word\n",
    "settings['min_count'] = 0           # minimum word count\n",
    "settings['epochs'] = 5000           # number of training epochs\n",
    "settings['neg_samp'] = 10           # number of negative words to use during training\n",
    "settings['learning_rate'] = 0.01    # learning rate\n",
    "np.random.seed(0)                   # set the seed for reproducibility\n",
    "w2v=word2vec()\n",
    "#corpus=corpus\n",
    "training_data = w2v.generate_training_data(settings, corpus)\n",
    "w2v.train(trainning)\n"
   ]
  },
  {
   "cell_type": "code",
   "execution_count": 2,
   "metadata": {},
   "outputs": [],
   "source": []
  },
  {
   "cell_type": "code",
   "execution_count": null,
   "metadata": {},
   "outputs": [],
   "source": []
  }
 ],
 "metadata": {
  "kernelspec": {
   "display_name": "Python 3",
   "language": "python",
   "name": "python3"
  },
  "language_info": {
   "codemirror_mode": {
    "name": "ipython",
    "version": 3
   },
   "file_extension": ".py",
   "mimetype": "text/x-python",
   "name": "python",
   "nbconvert_exporter": "python",
   "pygments_lexer": "ipython3",
   "version": "3.6.9"
  }
 },
 "nbformat": 4,
 "nbformat_minor": 4
}
